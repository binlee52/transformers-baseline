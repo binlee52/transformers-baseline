{
 "cells": [
  {
   "cell_type": "code",
   "execution_count": 53,
   "id": "c205cbb2",
   "metadata": {},
   "outputs": [],
   "source": [
    "import pandas as pd"
   ]
  },
  {
   "cell_type": "code",
   "execution_count": 54,
   "id": "c99c56b1",
   "metadata": {},
   "outputs": [],
   "source": [
    "paths = [\"ensemble/klue-submission.csv\", \"ensemble/electra-submission.csv\", \"ensemble/sh-submission.csv\", \"ensemble/klue-base-submission.csv\"]"
   ]
  },
  {
   "cell_type": "code",
   "execution_count": 55,
   "id": "bde85448",
   "metadata": {},
   "outputs": [],
   "source": [
    "category = [\"유형\", \"극성\", \"시제\", \"확신성\"]\n",
    "\n",
    "df_list = []\n",
    "for path in paths:\n",
    "    df = pd.read_csv(path, encoding=\"UTF-8\")\n",
    "    df = df.sort_values(\"ID\")\n",
    "    for i, c in enumerate(category):\n",
    "        df[c] = df[\"label\"].apply(lambda x: x.split(\"-\")[i])\n",
    "    df_list.append(df)"
   ]
  },
  {
   "cell_type": "code",
   "execution_count": 57,
   "id": "a6a1c264",
   "metadata": {},
   "outputs": [],
   "source": [
    "category_dict = {}\n",
    "for c in category:\n",
    "    category_dict[c] = []\n",
    "\n",
    "for c in category:\n",
    "    for j, x in enumerate(zip(df_list[0][c], df_list[1][c], df_list[2][c], df_list[3][c])): #, df_list[4][c])): \n",
    "        category_dict[c].append(max(x, key=x.count))"
   ]
  },
  {
   "cell_type": "code",
   "execution_count": 58,
   "id": "569a5093",
   "metadata": {},
   "outputs": [],
   "source": [
    "category_dict[\"label\"] = []\n",
    "for x in zip(category_dict[\"유형\"], category_dict[\"극성\"], category_dict[\"시제\"], category_dict[\"확신성\"]):\n",
    "    category_dict[\"label\"].append(\"-\".join(x))"
   ]
  },
  {
   "cell_type": "code",
   "execution_count": 59,
   "id": "55ffe79f",
   "metadata": {},
   "outputs": [],
   "source": [
    "category_dict[\"ID\"] = df_list[0][\"ID\"]\n",
    "for c in category:\n",
    "    category_dict.pop(c)\n",
    "df = pd.DataFrame.from_dict(category_dict)\n",
    "df = df[[\"ID\", \"label\"]]"
   ]
  },
  {
   "cell_type": "code",
   "execution_count": 60,
   "id": "0555c2f6",
   "metadata": {},
   "outputs": [],
   "source": [
    "df.to_csv(\"submission.csv\", encoding=\"UTF-8\", index=False)"
   ]
  },
  {
   "cell_type": "code",
   "execution_count": null,
   "id": "7e773668",
   "metadata": {},
   "outputs": [],
   "source": []
  }
 ],
 "metadata": {
  "kernelspec": {
   "display_name": "py38",
   "language": "python",
   "name": "py38"
  },
  "language_info": {
   "codemirror_mode": {
    "name": "ipython",
    "version": 3
   },
   "file_extension": ".py",
   "mimetype": "text/x-python",
   "name": "python",
   "nbconvert_exporter": "python",
   "pygments_lexer": "ipython3",
   "version": "3.8.15"
  }
 },
 "nbformat": 4,
 "nbformat_minor": 5
}
