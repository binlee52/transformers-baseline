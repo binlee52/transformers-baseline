{
 "cells": [
  {
   "cell_type": "code",
   "execution_count": 1,
   "id": "c6fad097",
   "metadata": {},
   "outputs": [],
   "source": [
    "import os\n",
    "os.environ[\"CUDA_DEVICE_ORDER\"]=\"PCI_BUS_ID\"\n",
    "os.environ[\"CUDA_VISIBLE_DEVICES\"]=\"1\""
   ]
  },
  {
   "cell_type": "code",
   "execution_count": 2,
   "id": "cb1fb997",
   "metadata": {},
   "outputs": [],
   "source": [
    "from transformers import AutoTokenizer, AutoModelForSequenceClassification\n",
    "import datasets\n",
    "from transformers import pipeline\n",
    "from transformers.pipelines.pt_utils import KeyDataset\n",
    "from tqdm.notebook import tqdm"
   ]
  },
  {
   "cell_type": "markdown",
   "id": "003311aa",
   "metadata": {},
   "source": [
    "# 1. Path"
   ]
  },
  {
   "cell_type": "code",
   "execution_count": 3,
   "id": "f36e5489",
   "metadata": {},
   "outputs": [],
   "source": [
    "# klue/roberta-large\n",
    "# path = {\n",
    "#     \"유형\": [\"results/유형/2022-12-20_170839/checkpoint-1854\",\"klue/roberta-large\"],\n",
    "#     \"극성\": [\"results/극성/2022-12-20_184737/checkpoint-1236\",\"klue/roberta-large\"],\n",
    "#     \"시제\": [\"results/시제/2022-12-20_202634/checkpoint-2060\",\"klue/roberta-large\"],\n",
    "#     \"확실성\": [\"results/확실성/2022-12-20_220529/checkpoint-618\",\"klue/roberta-large\"],\n",
    "# }\n",
    "\n",
    "\n",
    "# # kykim/electra-kor-base\n",
    "# path = {\n",
    "#     \"유형\": [\"results/유형/2022-12-22_220850/checkpoint-3255\",\"kykim/electra-kor-base\"],\n",
    "#     \"극성\": [\"results/극성/2022-12-22_224637/checkpoint-2325\",\"kykim/electra-kor-base\"],\n",
    "#     \"시제\": [\"results/시제/2022-12-22_232428/checkpoint-1395\",\"kykim/electra-kor-base\"],\n",
    "#     \"확실성\": [\"results/확실성/2022-12-21_073113/checkpoint-1239\",\"kykim/electra-kor-base\"],\n",
    "# }\n",
    "\n",
    "# klue/roberta-base\n",
    "path = {\n",
    "    \"유형\": [\"results/유형/2022-12-23_012330/checkpoint-1398\",\"klue/roberta-base\"],\n",
    "    \"극성\": [\"results/극성/2022-12-23_020957/checkpoint-1864\",\"klue/roberta-base\"],\n",
    "    \"시제\": [\"results/시제/2022-12-23_025624/checkpoint-1631\",\"klue/roberta-base\"],\n",
    "    \"확실성\": [\"results/확실성/2022-12-23_034237/checkpoint-1165\",\"klue/roberta-base\"],\n",
    "}\n",
    "\n",
    "# # beomi/KcELECTRA-base-v2022\n",
    "# path = {\n",
    "#     \"유형\": [\"results/유형/2022-12-23_012330/checkpoint-1398\",\"beomi/KcELECTRA-base-v2022\"],\n",
    "#     \"극성\": [\"results/극성/2022-12-23_020957/checkpoint-1864\",\"beomi/KcELECTRA-base-v2022\"],\n",
    "#     \"시제\": [\"results/시제/2022-12-23_025624/checkpoint-1395\",\"beomi/KcELECTRA-base-v2022\"],\n",
    "#     \"확실성\": [\"results/확실성/2022-12-23_034237/checkpoint-1165\",\"beomi/KcELECTRA-base-v2022\"],\n",
    "# }"
   ]
  },
  {
   "cell_type": "markdown",
   "id": "cffaa476",
   "metadata": {},
   "source": [
    "# 2. Data"
   ]
  },
  {
   "cell_type": "code",
   "execution_count": 4,
   "id": "14b02918",
   "metadata": {},
   "outputs": [],
   "source": [
    "!cp data/test.csv data/result.csv"
   ]
  },
  {
   "cell_type": "code",
   "execution_count": 5,
   "id": "95b44a2d",
   "metadata": {},
   "outputs": [
    {
     "name": "stderr",
     "output_type": "stream",
     "text": [
      "Using custom data configuration default-c03bc7c9068be58e\n"
     ]
    },
    {
     "name": "stdout",
     "output_type": "stream",
     "text": [
      "Downloading and preparing dataset csv/default to /home/ubuntu/.cache/huggingface/datasets/csv/default-c03bc7c9068be58e/0.0.0/6b34fb8fcf56f7c8ba51dc895bfa2bfbe43546f190a60fcf74bb5e8afdcc2317...\n"
     ]
    },
    {
     "data": {
      "application/vnd.jupyter.widget-view+json": {
       "model_id": "05433c94f4974bed8a593d8814277483",
       "version_major": 2,
       "version_minor": 0
      },
      "text/plain": [
       "Downloading data files:   0%|          | 0/1 [00:00<?, ?it/s]"
      ]
     },
     "metadata": {},
     "output_type": "display_data"
    },
    {
     "data": {
      "application/vnd.jupyter.widget-view+json": {
       "model_id": "f21560a17ff947df85d52b3772c016aa",
       "version_major": 2,
       "version_minor": 0
      },
      "text/plain": [
       "Extracting data files:   0%|          | 0/1 [00:00<?, ?it/s]"
      ]
     },
     "metadata": {},
     "output_type": "display_data"
    },
    {
     "data": {
      "application/vnd.jupyter.widget-view+json": {
       "model_id": "2de25d5f6be0486a9ef6fb1f453e0307",
       "version_major": 2,
       "version_minor": 0
      },
      "text/plain": [
       "Generating predict split: 0 examples [00:00, ? examples/s]"
      ]
     },
     "metadata": {},
     "output_type": "display_data"
    },
    {
     "name": "stdout",
     "output_type": "stream",
     "text": [
      "Dataset csv downloaded and prepared to /home/ubuntu/.cache/huggingface/datasets/csv/default-c03bc7c9068be58e/0.0.0/6b34fb8fcf56f7c8ba51dc895bfa2bfbe43546f190a60fcf74bb5e8afdcc2317. Subsequent calls will reuse this data.\n"
     ]
    },
    {
     "name": "stderr",
     "output_type": "stream",
     "text": [
      "/home/ubuntu/anaconda3/envs/py38/lib/python3.8/site-packages/datasets/download/streaming_download_manager.py:714: FutureWarning: the 'mangle_dupe_cols' keyword is deprecated and will be removed in a future version. Please take steps to stop the use of 'mangle_dupe_cols'\n",
      "  return pd.read_csv(xopen(filepath_or_buffer, \"rb\", use_auth_token=use_auth_token), **kwargs)\n"
     ]
    },
    {
     "data": {
      "application/vnd.jupyter.widget-view+json": {
       "model_id": "72fa548d89bb4946a8d8ec87e7996441",
       "version_major": 2,
       "version_minor": 0
      },
      "text/plain": [
       "  0%|          | 0/1 [00:00<?, ?it/s]"
      ]
     },
     "metadata": {},
     "output_type": "display_data"
    }
   ],
   "source": [
    "import datasets\n",
    "from transformers import pipeline\n",
    "from transformers.pipelines.pt_utils import KeyDataset\n",
    "from tqdm import tqdm\n",
    "from datasets import load_dataset\n",
    "\n",
    "tds = load_dataset(\n",
    "    \"csv\",\n",
    "    data_files={\"predict\": \"data/result.csv\"}\n",
    ")"
   ]
  },
  {
   "cell_type": "code",
   "execution_count": 6,
   "id": "054d0329",
   "metadata": {},
   "outputs": [],
   "source": [
    "def inference(model, tokenizer, category):\n",
    "    pipe = pipeline(\"text-classification\", model=model, tokenizer = tokenizer, device=0)\n",
    "    result = []\n",
    "    for out in tqdm(pipe(KeyDataset(tds[\"predict\"], \"문장\"), batch_size=64)):\n",
    "        result.append(out[\"label\"])\n",
    "    return result"
   ]
  },
  {
   "cell_type": "code",
   "execution_count": 7,
   "id": "9a310ca1",
   "metadata": {},
   "outputs": [
    {
     "name": "stderr",
     "output_type": "stream",
     "text": [
      "7090it [00:16, 438.77it/s]                      \n",
      "7090it [00:15, 454.94it/s]                       \n",
      "7090it [00:15, 453.39it/s]                       \n",
      "7090it [00:15, 448.10it/s]                       \n"
     ]
    }
   ],
   "source": [
    "for category, (pretrained_model_name_or_path, plm) in path.items():\n",
    "    tokenizer = AutoTokenizer.from_pretrained(plm)\n",
    "    model = AutoModelForSequenceClassification.from_pretrained(pretrained_model_name_or_path)\n",
    "    result = inference(model, tokenizer, category)\n",
    "    tds[\"predict\"] = tds[\"predict\"].add_column(name=category, column=result)"
   ]
  },
  {
   "cell_type": "code",
   "execution_count": 8,
   "id": "c2904e88",
   "metadata": {},
   "outputs": [
    {
     "data": {
      "application/vnd.jupyter.widget-view+json": {
       "model_id": "977cd02601cb43bc9e4dc50805f07fc8",
       "version_major": 2,
       "version_minor": 0
      },
      "text/plain": [
       "  0%|          | 0/7090 [00:00<?, ?ex/s]"
      ]
     },
     "metadata": {},
     "output_type": "display_data"
    }
   ],
   "source": [
    "tds[\"predict\"] = tds[\"predict\"].map(lambda batch: {\"label\": \"-\".join([batch[\"유형\"], batch[\"극성\"], batch[\"시제\"], batch[\"확실성\"]])}, \\\n",
    "                                  remove_columns=list(path.keys()) + [\"문장\"])"
   ]
  },
  {
   "cell_type": "code",
   "execution_count": 9,
   "id": "ab080d62",
   "metadata": {},
   "outputs": [
    {
     "data": {
      "text/plain": [
       "Dataset({\n",
       "    features: ['ID', 'label'],\n",
       "    num_rows: 7090\n",
       "})"
      ]
     },
     "execution_count": 9,
     "metadata": {},
     "output_type": "execute_result"
    }
   ],
   "source": [
    "tds[\"predict\"]"
   ]
  },
  {
   "cell_type": "code",
   "execution_count": 10,
   "id": "b5c3f31b",
   "metadata": {},
   "outputs": [
    {
     "data": {
      "application/vnd.jupyter.widget-view+json": {
       "model_id": "2b068e7efc8c4c2cb1edd7508c567ac4",
       "version_major": 2,
       "version_minor": 0
      },
      "text/plain": [
       "Creating CSV from Arrow format:   0%|          | 0/8 [00:00<?, ?ba/s]"
      ]
     },
     "metadata": {},
     "output_type": "display_data"
    },
    {
     "data": {
      "text/plain": [
       "292574"
      ]
     },
     "execution_count": 10,
     "metadata": {},
     "output_type": "execute_result"
    }
   ],
   "source": [
    "tds[\"predict\"].to_csv(\"klue-base-submission.csv\", encoding=\"UTF-8\", index=False)"
   ]
  },
  {
   "cell_type": "code",
   "execution_count": null,
   "id": "e879adf0",
   "metadata": {},
   "outputs": [],
   "source": []
  }
 ],
 "metadata": {
  "kernelspec": {
   "display_name": "py38",
   "language": "python",
   "name": "py38"
  },
  "language_info": {
   "codemirror_mode": {
    "name": "ipython",
    "version": 3
   },
   "file_extension": ".py",
   "mimetype": "text/x-python",
   "name": "python",
   "nbconvert_exporter": "python",
   "pygments_lexer": "ipython3",
   "version": "3.8.15"
  }
 },
 "nbformat": 4,
 "nbformat_minor": 5
}
